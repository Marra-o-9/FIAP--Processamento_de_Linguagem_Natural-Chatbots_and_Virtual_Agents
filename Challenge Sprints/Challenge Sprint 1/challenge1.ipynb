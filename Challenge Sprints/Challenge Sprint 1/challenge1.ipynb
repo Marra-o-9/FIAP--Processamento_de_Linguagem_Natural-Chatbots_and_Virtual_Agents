{
 "cells": [
  {
   "attachments": {},
   "cell_type": "markdown",
   "metadata": {},
   "source": [
    "# Challenge Sprint 1: Processamento de Linguagem Natural"
   ]
  },
  {
   "attachments": {},
   "cell_type": "markdown",
   "metadata": {},
   "source": [
    "Integrantes:<br><br>\n",
    "Henrique Marra Barbosa - RM97672<br>\n",
    "Lucas Bueno Taets Gustavo - RM552162<br>\n",
    "Kauã Tateishi dos Santos - RM551632<br>\n",
    "Arthur Hieda Cunha - RM551882"
   ]
  },
  {
   "cell_type": "markdown",
   "metadata": {},
   "source": [
    "> Instalando bibliotecas"
   ]
  },
  {
   "cell_type": "code",
   "execution_count": 26,
   "metadata": {},
   "outputs": [
    {
     "name": "stdout",
     "output_type": "stream",
     "text": [
      "Requirement already satisfied: textblob in c:\\users\\marra\\appdata\\local\\programs\\python\\python311\\lib\\site-packages (0.18.0.post0)\n",
      "Requirement already satisfied: nltk>=3.8 in c:\\users\\marra\\appdata\\local\\programs\\python\\python311\\lib\\site-packages (from textblob) (3.8.1)\n",
      "Requirement already satisfied: click in c:\\users\\marra\\appdata\\local\\programs\\python\\python311\\lib\\site-packages (from nltk>=3.8->textblob) (8.1.7)\n",
      "Requirement already satisfied: joblib in c:\\users\\marra\\appdata\\local\\programs\\python\\python311\\lib\\site-packages (from nltk>=3.8->textblob) (1.3.2)\n",
      "Requirement already satisfied: regex>=2021.8.3 in c:\\users\\marra\\appdata\\local\\programs\\python\\python311\\lib\\site-packages (from nltk>=3.8->textblob) (2024.5.10)\n",
      "Requirement already satisfied: tqdm in c:\\users\\marra\\appdata\\local\\programs\\python\\python311\\lib\\site-packages (from nltk>=3.8->textblob) (4.66.1)\n",
      "Requirement already satisfied: colorama in c:\\users\\marra\\appdata\\roaming\\python\\python311\\site-packages (from click->nltk>=3.8->textblob) (0.4.6)\n",
      "Finished.\n"
     ]
    },
    {
     "name": "stderr",
     "output_type": "stream",
     "text": [
      "[nltk_data] Downloading package brown to\n",
      "[nltk_data]     C:\\Users\\marra\\AppData\\Roaming\\nltk_data...\n",
      "[nltk_data]   Package brown is already up-to-date!\n",
      "[nltk_data] Downloading package punkt to\n",
      "[nltk_data]     C:\\Users\\marra\\AppData\\Roaming\\nltk_data...\n",
      "[nltk_data]   Package punkt is already up-to-date!\n",
      "[nltk_data] Downloading package wordnet to\n",
      "[nltk_data]     C:\\Users\\marra\\AppData\\Roaming\\nltk_data...\n",
      "[nltk_data]   Package wordnet is already up-to-date!\n",
      "[nltk_data] Downloading package averaged_perceptron_tagger to\n",
      "[nltk_data]     C:\\Users\\marra\\AppData\\Roaming\\nltk_data...\n",
      "[nltk_data]   Package averaged_perceptron_tagger is already up-to-\n",
      "[nltk_data]       date!\n",
      "[nltk_data] Downloading package conll2000 to\n",
      "[nltk_data]     C:\\Users\\marra\\AppData\\Roaming\\nltk_data...\n",
      "[nltk_data]   Package conll2000 is already up-to-date!\n",
      "[nltk_data] Downloading package movie_reviews to\n",
      "[nltk_data]     C:\\Users\\marra\\AppData\\Roaming\\nltk_data...\n",
      "[nltk_data]   Package movie_reviews is already up-to-date!\n"
     ]
    }
   ],
   "source": [
    "!pip install -U textblob\n",
    "!python -m textblob.download_corpora"
   ]
  },
  {
   "attachments": {},
   "cell_type": "markdown",
   "metadata": {},
   "source": [
    "> Preparando ambiente"
   ]
  },
  {
   "cell_type": "code",
   "execution_count": 27,
   "metadata": {},
   "outputs": [],
   "source": [
    "# Importando bibliotecas\n",
    "from textblob import Blobber"
   ]
  },
  {
   "attachments": {},
   "cell_type": "markdown",
   "metadata": {},
   "source": [
    "> Recebendo os comentários"
   ]
  },
  {
   "cell_type": "code",
   "execution_count": 36,
   "metadata": {},
   "outputs": [
    {
     "name": "stdout",
     "output_type": "stream",
     "text": [
      "['1. \"The delivery service was amazing, it arrived earlier than expected!\"', '2. \"The product quality was disappointing, I do not recommend.\"', '3. \"Excellent customer service, they quickly resolved my issue.\"', '4. \"The price is a bit high, but the quality makes up for it.\"', '5. \"Terrible experience, the product arrived damaged.\"', '6. \"The variety of products is impressive, I found everything I needed.\"', '7. \"Delayed delivery, they do not meet deadlines.\"', '8. \"Great cost-benefit ratio, I recommend it!\"', '9. \"Terrible service, unhelpful staff.\"', '10. \"I\\'m satisfied with the delivery speed.\"', '11. \"Doubtful product quality, it didn\\'t last a week.\"', '12. \"The website navigation is confusing, I had trouble finding what I wanted.\"', '13. \"Affordable price and fast delivery, perfect!\"', '14. \"The product arrived exactly as expected, no issues.\"', '15. \"Reliable delivery service, I\\'ve never had problems.\"', '16. \"I bought two products and one of them was not delivered, terrible service!\"', '17. \"I do not recommend, terrible experience from start to finish.\"', '18. \"Cordial and efficient service, I liked it a lot.\"', '19. \"The product arrived damaged and the support didn\\'t solve my issue.\"', '20. \"Delivery within the deadline and quality product, excellent!\"']\n"
     ]
    }
   ],
   "source": [
    "# Ler os comentários do arquivo\n",
    "def ler_comentarios(arquivo):\n",
    "    with open(arquivo, \"r\", encoding=\"utf-8\") as file:\n",
    "        comentarios = [linha.strip() for linha in file.readlines()]\n",
    "    return comentarios\n",
    "\n",
    "comentarios = ler_comentarios(\"comentarios.txt\")\n",
    "print(comentarios)"
   ]
  },
  {
   "attachments": {},
   "cell_type": "markdown",
   "metadata": {},
   "source": [
    "> Analisando o conteúdo"
   ]
  },
  {
   "cell_type": "code",
   "execution_count": 37,
   "metadata": {},
   "outputs": [
    {
     "name": "stdout",
     "output_type": "stream",
     "text": [
      "[('1. \"The delivery service was amazing, it arrived earlier than expected!\"', 'Positivo'), ('2. \"The product quality was disappointing, I do not recommend.\"', 'Negativo'), ('3. \"Excellent customer service, they quickly resolved my issue.\"', 'Positivo'), ('4. \"The price is a bit high, but the quality makes up for it.\"', 'Positivo'), ('5. \"Terrible experience, the product arrived damaged.\"', 'Negativo'), ('6. \"The variety of products is impressive, I found everything I needed.\"', 'Positivo'), ('7. \"Delayed delivery, they do not meet deadlines.\"', 'Neutro'), ('8. \"Great cost-benefit ratio, I recommend it!\"', 'Positivo'), ('9. \"Terrible service, unhelpful staff.\"', 'Negativo'), ('10. \"I\\'m satisfied with the delivery speed.\"', 'Positivo'), ('11. \"Doubtful product quality, it didn\\'t last a week.\"', 'Negativo'), ('12. \"The website navigation is confusing, I had trouble finding what I wanted.\"', 'Negativo'), ('13. \"Affordable price and fast delivery, perfect!\"', 'Positivo'), ('14. \"The product arrived exactly as expected, no issues.\"', 'Negativo'), ('15. \"Reliable delivery service, I\\'ve never had problems.\"', 'Neutro'), ('16. \"I bought two products and one of them was not delivered, terrible service!\"', 'Negativo'), ('17. \"I do not recommend, terrible experience from start to finish.\"', 'Negativo'), ('18. \"Cordial and efficient service, I liked it a lot.\"', 'Positivo'), ('19. \"The product arrived damaged and the support didn\\'t solve my issue.\"', 'Neutro'), ('20. \"Delivery within the deadline and quality product, excellent!\"', 'Positivo')]\n"
     ]
    }
   ],
   "source": [
    "# Função para analisar o sentimento de cada comentário\n",
    "tb = Blobber()\n",
    "\n",
    "def analisar_sentimento(comentarios):\n",
    "    resultados = []\n",
    "    for comentario in comentarios:\n",
    "        blob = tb(comentario)\n",
    "        polaridade = blob.sentiment.polarity\n",
    "        if polaridade > 0:\n",
    "            resultado = \"Positivo\"\n",
    "        elif polaridade < 0:\n",
    "            resultado = \"Negativo\"\n",
    "        else:\n",
    "            resultado = \"Neutro\"\n",
    "        resultados.append((comentario.strip(), resultado))\n",
    "    return resultados\n",
    "\n",
    "resultados_sentimento = analisar_sentimento(comentarios)\n",
    "print(resultados_sentimento)"
   ]
  },
  {
   "attachments": {},
   "cell_type": "markdown",
   "metadata": {},
   "source": [
    "> Gerando um relatório"
   ]
  },
  {
   "cell_type": "code",
   "execution_count": 38,
   "metadata": {},
   "outputs": [
    {
     "name": "stdout",
     "output_type": "stream",
     "text": [
      "----- Melhores Serviços: 9 -----\n",
      "1. \"The delivery service was amazing, it arrived earlier than expected!\"\n",
      "3. \"Excellent customer service, they quickly resolved my issue.\"\n",
      "4. \"The price is a bit high, but the quality makes up for it.\"\n",
      "6. \"The variety of products is impressive, I found everything I needed.\"\n",
      "8. \"Great cost-benefit ratio, I recommend it!\"\n",
      "10. \"I'm satisfied with the delivery speed.\"\n",
      "13. \"Affordable price and fast delivery, perfect!\"\n",
      "18. \"Cordial and efficient service, I liked it a lot.\"\n",
      "20. \"Delivery within the deadline and quality product, excellent!\"\n",
      "\n",
      "----- Piores Serviços: 8 -----\n",
      "2. \"The product quality was disappointing, I do not recommend.\"\n",
      "5. \"Terrible experience, the product arrived damaged.\"\n",
      "9. \"Terrible service, unhelpful staff.\"\n",
      "11. \"Doubtful product quality, it didn't last a week.\"\n",
      "12. \"The website navigation is confusing, I had trouble finding what I wanted.\"\n",
      "14. \"The product arrived exactly as expected, no issues.\"\n",
      "16. \"I bought two products and one of them was not delivered, terrible service!\"\n",
      "17. \"I do not recommend, terrible experience from start to finish.\"\n",
      "\n",
      "----- Comentários Neutros: 3 -----\n",
      "7. \"Delayed delivery, they do not meet deadlines.\"\n",
      "15. \"Reliable delivery service, I've never had problems.\"\n",
      "19. \"The product arrived damaged and the support didn't solve my issue.\"\n"
     ]
    }
   ],
   "source": [
    "# Função para gerar o relatório\n",
    "def gerar_relatorio(resultados):\n",
    "    positivos = []\n",
    "    negativos = []\n",
    "    neutros = []\n",
    "    for comentario, sentimento in resultados:\n",
    "        if sentimento == \"Positivo\":\n",
    "            positivos.append(comentario)\n",
    "        elif sentimento == \"Negativo\":\n",
    "            negativos.append(comentario)\n",
    "        else:\n",
    "            neutros.append(comentario)\n",
    "\n",
    "    print(f\"----- Melhores Serviços: {len(positivos)} -----\")\n",
    "    for comentario in positivos:\n",
    "        print(comentario)\n",
    "\n",
    "    print(f\"\\n----- Piores Serviços: {len(negativos)} -----\")\n",
    "    for comentario in negativos:\n",
    "        print(comentario)\n",
    "\n",
    "    print(f\"\\n----- Comentários Neutros: {len(neutros)} -----\")\n",
    "    for comentario in neutros:\n",
    "        print(comentario)\n",
    "\n",
    "# Gerar o relatório\n",
    "gerar_relatorio(resultados_sentimento)"
   ]
  }
 ],
 "metadata": {
  "kernelspec": {
   "display_name": "Python 3",
   "language": "python",
   "name": "python3"
  },
  "language_info": {
   "codemirror_mode": {
    "name": "ipython",
    "version": 3
   },
   "file_extension": ".py",
   "mimetype": "text/x-python",
   "name": "python",
   "nbconvert_exporter": "python",
   "pygments_lexer": "ipython3",
   "version": "3.11.2"
  },
  "orig_nbformat": 4
 },
 "nbformat": 4,
 "nbformat_minor": 2
}
