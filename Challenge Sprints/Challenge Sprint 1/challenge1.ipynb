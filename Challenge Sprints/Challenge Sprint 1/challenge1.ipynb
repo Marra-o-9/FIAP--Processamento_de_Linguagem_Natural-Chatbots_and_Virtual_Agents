{
 "cells": [
  {
   "attachments": {},
   "cell_type": "markdown",
   "metadata": {},
   "source": [
    "# Challenge Sprint 1: Processamento de Linguagem Natural"
   ]
  },
  {
   "attachments": {},
   "cell_type": "markdown",
   "metadata": {},
   "source": [
    "No terminal:\n",
    "```\n",
    "pip install -U spacy\n",
    "python -m spacy download en_core_web_sm\n",
    "```"
   ]
  },
  {
   "attachments": {},
   "cell_type": "markdown",
   "metadata": {},
   "source": [
    "> Preparando ambiente"
   ]
  },
  {
   "cell_type": "code",
   "execution_count": 29,
   "metadata": {},
   "outputs": [],
   "source": [
    "# Importando a biblioteca\n",
    "import spacy\n",
    "\n",
    "# Carregar o modelo para o idioma inglês\n",
    "nlp = spacy.load(\"en_core_web_sm\")"
   ]
  },
  {
   "attachments": {},
   "cell_type": "markdown",
   "metadata": {},
   "source": [
    "> Recebendo os comentários"
   ]
  },
  {
   "cell_type": "code",
   "execution_count": 30,
   "metadata": {},
   "outputs": [],
   "source": [
    "# Ler os comentários do arquivo\n",
    "def ler_comentarios(arquivo):\n",
    "    with open(arquivo, \"r\", encoding=\"utf-8\") as file:\n",
    "        comentarios = [linha.strip() for linha in file.readlines()]\n",
    "    return comentarios\n",
    "\n",
    "comentarios = ler_comentarios(\"comentarios.txt\")"
   ]
  },
  {
   "attachments": {},
   "cell_type": "markdown",
   "metadata": {},
   "source": [
    "> Analisando o conteúdo"
   ]
  },
  {
   "cell_type": "code",
   "execution_count": 31,
   "metadata": {},
   "outputs": [],
   "source": [
    "# Função para analisar o sentimento de cada comentário\n",
    "def analisar_sentimento(comentarios):\n",
    "    resultados = []\n",
    "    for comentario in comentarios:\n",
    "        doc = nlp(comentario)\n",
    "        polaridade = doc.sentiment\n",
    "        if polaridade >= 0.2:\n",
    "            resultado = \"Positivo\"\n",
    "        elif polaridade <= -0.2:\n",
    "            resultado = \"Negativo\"\n",
    "        else:\n",
    "            resultado = \"Neutro\"\n",
    "        resultados.append((comentario.strip(), resultado))\n",
    "    return resultados\n",
    "\n",
    "resultados_sentimento = analisar_sentimento(comentarios)"
   ]
  },
  {
   "attachments": {},
   "cell_type": "markdown",
   "metadata": {},
   "source": [
    "> Gerando um relatório"
   ]
  },
  {
   "cell_type": "code",
   "execution_count": 32,
   "metadata": {},
   "outputs": [
    {
     "name": "stdout",
     "output_type": "stream",
     "text": [
      "----- Melhores Serviços -----\n",
      "\n",
      "----- Piores Serviços -----\n",
      "\n",
      "----- Comentários Neutros -----\n",
      "1. \"The delivery service was amazing, it arrived earlier than expected!\"\n",
      "2. \"The product quality was disappointing, I do not recommend.\"\n",
      "3. \"Excellent customer service, they quickly resolved my issue.\"\n",
      "4. \"The price is a bit high, but the quality makes up for it.\"\n",
      "5. \"Terrible experience, the product arrived damaged.\"\n",
      "6. \"The variety of products is impressive, I found everything I needed.\"\n",
      "7. \"Delayed delivery, they do not meet deadlines.\"\n",
      "8. \"Great cost-benefit ratio, I recommend it!\"\n",
      "9. \"Terrible service, unhelpful staff.\"\n",
      "10. \"I'm satisfied with the delivery speed.\"\n",
      "11. \"Doubtful product quality, it didn't last a week.\"\n",
      "12. \"The website navigation is confusing, I had trouble finding what I wanted.\"\n",
      "13. \"Affordable price and fast delivery, perfect!\"\n",
      "14. \"The product arrived exactly as expected, no issues.\"\n",
      "15. \"Reliable delivery service, I've never had problems.\"\n",
      "16. \"I bought two products and one of them was not delivered, terrible service!\"\n",
      "17. \"I do not recommend, terrible experience from start to finish.\"\n",
      "18. \"Cordial and efficient service, I liked it a lot.\"\n",
      "19. \"The product arrived damaged and the support didn't solve my issue.\"\n",
      "20. \"Delivery within the deadline and quality product, excellent!\"\n"
     ]
    }
   ],
   "source": [
    "# Função para gerar o relatório\n",
    "def gerar_relatorio(resultados):\n",
    "    positivos = []\n",
    "    negativos = []\n",
    "    neutros = []\n",
    "    for comentario, sentimento in resultados:\n",
    "        if sentimento == \"Positivo\":\n",
    "            positivos.append(comentario)\n",
    "        elif sentimento == \"Negativo\":\n",
    "            negativos.append(comentario)\n",
    "        else:\n",
    "            neutros.append(comentario)\n",
    "\n",
    "    print(\"----- Melhores Serviços -----\")\n",
    "    for comentario in positivos:\n",
    "        print(comentario)\n",
    "\n",
    "    print(\"\\n----- Piores Serviços -----\")\n",
    "    for comentario in negativos:\n",
    "        print(comentario)\n",
    "\n",
    "    print(\"\\n----- Comentários Neutros -----\")\n",
    "    for comentario in neutros:\n",
    "        print(comentario)\n",
    "\n",
    "# Gerar o relatório\n",
    "gerar_relatorio(resultados_sentimento)"
   ]
  }
 ],
 "metadata": {
  "kernelspec": {
   "display_name": "Python 3",
   "language": "python",
   "name": "python3"
  },
  "language_info": {
   "codemirror_mode": {
    "name": "ipython",
    "version": 3
   },
   "file_extension": ".py",
   "mimetype": "text/x-python",
   "name": "python",
   "nbconvert_exporter": "python",
   "pygments_lexer": "ipython3",
   "version": "3.8.2"
  },
  "orig_nbformat": 4
 },
 "nbformat": 4,
 "nbformat_minor": 2
}
