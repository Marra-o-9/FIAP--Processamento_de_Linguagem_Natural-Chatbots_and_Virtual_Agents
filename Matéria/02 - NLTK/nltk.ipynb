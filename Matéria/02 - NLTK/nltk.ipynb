{
 "cells": [
  {
   "attachments": {},
   "cell_type": "markdown",
   "metadata": {},
   "source": [
    "# NLTK"
   ]
  },
  {
   "attachments": {},
   "cell_type": "markdown",
   "metadata": {},
   "source": [
    "### Início"
   ]
  },
  {
   "attachments": {},
   "cell_type": "markdown",
   "metadata": {},
   "source": [
    "No terminal:\n",
    "\n",
    "```\n",
    "pip install nltk\n",
    "```\n",
    "\n",
    "No terminal, entrar no python e:\n",
    "\n",
    "```\n",
    "import nltk\n",
    "nltk.download()\n",
    "```"
   ]
  },
  {
   "cell_type": "code",
   "execution_count": 157,
   "metadata": {},
   "outputs": [],
   "source": [
    "# Imports necessários\n",
    "import nltk\n",
    "import string\n",
    "import matplotlib.pyplot as plt\n",
    "from nltk.corpus import stopwords\n",
    "from nltk.tokenize import word_tokenize\n",
    "from nltk.stem import RSLPStemmer, WordNetLemmatizer\n",
    "from collections import Counter\n",
    "from nltk.sentiment import SentimentIntensityAnalyzer\n",
    "from nltk.corpus import movie_reviews\n",
    "from nltk.classify import NaiveBayesClassifier\n",
    "from nltk.classify.util import accuracy as nltk_accuracy"
   ]
  },
  {
   "cell_type": "code",
   "execution_count": 158,
   "metadata": {},
   "outputs": [
    {
     "name": "stdout",
     "output_type": "stream",
     "text": [
      "['a', 'à', 'ao', 'aos', 'aquela', 'aquelas', 'aquele', 'aqueles', 'aquilo', 'as', 'às', 'até', 'com', 'como', 'da', 'das', 'de', 'dela', 'delas', 'dele', 'deles', 'depois', 'do', 'dos', 'e', 'é', 'ela', 'elas', 'ele', 'eles', 'em', 'entre', 'era', 'eram', 'éramos', 'essa', 'essas', 'esse', 'esses', 'esta', 'está', 'estamos', 'estão', 'estar', 'estas', 'estava', 'estavam', 'estávamos', 'este', 'esteja', 'estejam', 'estejamos', 'estes', 'esteve', 'estive', 'estivemos', 'estiver', 'estivera', 'estiveram', 'estivéramos', 'estiverem', 'estivermos', 'estivesse', 'estivessem', 'estivéssemos', 'estou', 'eu', 'foi', 'fomos', 'for', 'fora', 'foram', 'fôramos', 'forem', 'formos', 'fosse', 'fossem', 'fôssemos', 'fui', 'há', 'haja', 'hajam', 'hajamos', 'hão', 'havemos', 'haver', 'hei', 'houve', 'houvemos', 'houver', 'houvera', 'houverá', 'houveram', 'houvéramos', 'houverão', 'houverei', 'houverem', 'houveremos', 'houveria', 'houveriam', 'houveríamos', 'houvermos', 'houvesse', 'houvessem', 'houvéssemos', 'isso', 'isto', 'já', 'lhe', 'lhes', 'mais', 'mas', 'me', 'mesmo', 'meu', 'meus', 'minha', 'minhas', 'muito', 'na', 'não', 'nas', 'nem', 'no', 'nos', 'nós', 'nossa', 'nossas', 'nosso', 'nossos', 'num', 'numa', 'o', 'os', 'ou', 'para', 'pela', 'pelas', 'pelo', 'pelos', 'por', 'qual', 'quando', 'que', 'quem', 'são', 'se', 'seja', 'sejam', 'sejamos', 'sem', 'ser', 'será', 'serão', 'serei', 'seremos', 'seria', 'seriam', 'seríamos', 'seu', 'seus', 'só', 'somos', 'sou', 'sua', 'suas', 'também', 'te', 'tem', 'tém', 'temos', 'tenha', 'tenham', 'tenhamos', 'tenho', 'terá', 'terão', 'terei', 'teremos', 'teria', 'teriam', 'teríamos', 'teu', 'teus', 'teve', 'tinha', 'tinham', 'tínhamos', 'tive', 'tivemos', 'tiver', 'tivera', 'tiveram', 'tivéramos', 'tiverem', 'tivermos', 'tivesse', 'tivessem', 'tivéssemos', 'tu', 'tua', 'tuas', 'um', 'uma', 'você', 'vocês', 'vos']\n"
     ]
    }
   ],
   "source": [
    "print(stopwords.words(\"portuguese\"))"
   ]
  },
  {
   "cell_type": "code",
   "execution_count": 159,
   "metadata": {},
   "outputs": [
    {
     "name": "stdout",
     "output_type": "stream",
     "text": [
      "['O', 'rato', 'roeu', 'a', 'roupa', 'do', 'rei', 'de', 'Roma']\n"
     ]
    }
   ],
   "source": [
    "texto = \"O rato roeu a roupa do rei de Roma\"\n",
    "tokens = word_tokenize(texto, language=\"portuguese\")\n",
    "print(tokens)"
   ]
  },
  {
   "cell_type": "code",
   "execution_count": 160,
   "metadata": {},
   "outputs": [],
   "source": [
    "# Carregar lista de stopwords para o português (Essencial)\n",
    "stopwords = set(stopwords.words(\"portuguese\"))"
   ]
  },
  {
   "attachments": {},
   "cell_type": "markdown",
   "metadata": {},
   "source": [
    "### Stopwords"
   ]
  },
  {
   "cell_type": "code",
   "execution_count": 161,
   "metadata": {},
   "outputs": [],
   "source": [
    "# Texto de exemplo\n",
    "texto = \"Isso é um exemplo de uso para remoção de stopwords em um texto no idioma português.\"\n",
    "\n",
    "# Tokenizar o texto em palavras\n",
    "palavras = word_tokenize(texto)\n",
    "\n",
    "# Remover stopwords\n",
    "palavras_filtradas = [palavra for palavra in palavras if palavra.lower() not in stopwords]\n",
    "\n",
    "# Juntar as palavras filtradas de volta em um texto\n",
    "texto_filtrado = \" \".join(palavras_filtradas)"
   ]
  },
  {
   "cell_type": "code",
   "execution_count": 162,
   "metadata": {},
   "outputs": [
    {
     "name": "stdout",
     "output_type": "stream",
     "text": [
      "Texto original: Isso é um exemplo de uso para remoção de stopwords em um texto no idioma português.\n",
      "\n",
      "Texto com stopwords removidas: exemplo uso remoção stopwords texto idioma português .\n"
     ]
    }
   ],
   "source": [
    "# Execução\n",
    "print(f\"Texto original: {texto}\")\n",
    "print(f\"\\nTexto com stopwords removidas: {texto_filtrado}\")"
   ]
  },
  {
   "attachments": {},
   "cell_type": "markdown",
   "metadata": {},
   "source": [
    "### Stemming"
   ]
  },
  {
   "cell_type": "code",
   "execution_count": 163,
   "metadata": {},
   "outputs": [
    {
     "name": "stderr",
     "output_type": "stream",
     "text": [
      "[nltk_data] Downloading package rslp to\n",
      "[nltk_data]     C:\\Users\\logonrmlocal\\AppData\\Roaming\\nltk_data...\n",
      "[nltk_data]   Package rslp is already up-to-date!\n"
     ]
    },
    {
     "data": {
      "text/plain": [
       "True"
      ]
     },
     "execution_count": 163,
     "metadata": {},
     "output_type": "execute_result"
    }
   ],
   "source": [
    "# Baixar recursos adicionais no NLTK\n",
    "nltk.download(\"rslp\")"
   ]
  },
  {
   "cell_type": "code",
   "execution_count": 164,
   "metadata": {},
   "outputs": [],
   "source": [
    "# Instanciar o stemmer RSLP\n",
    "stemmer = RSLPStemmer()\n",
    "\n",
    "# Texto de exemplo\n",
    "texto = \"Eu estava pensando que poderia ser melhor.\"\n",
    "\n",
    "# Tokenizar o texto em palavras\n",
    "palavras = word_tokenize(texto, language=\"portuguese\")\n",
    "\n",
    "# Aplicar stemming às palavras\n",
    "palavras_stemmed = [stemmer.stem(palavra) for palavra in palavras]\n",
    "\n",
    "# Juntar as palavras stemizadas em um texto\n",
    "texto_stemmed = \" \".join(palavras_stemmed)"
   ]
  },
  {
   "cell_type": "code",
   "execution_count": 165,
   "metadata": {},
   "outputs": [
    {
     "name": "stdout",
     "output_type": "stream",
     "text": [
      "Texto original: Eu estava pensando que poderia ser melhor.\n",
      "\n",
      "Texto com stemming: eu est pens que pod ser melhor .\n"
     ]
    }
   ],
   "source": [
    "# Execução\n",
    "print(f\"Texto original: {texto}\")\n",
    "print(f\"\\nTexto com stemming: {texto_stemmed}\")"
   ]
  },
  {
   "attachments": {},
   "cell_type": "markdown",
   "metadata": {},
   "source": [
    "### Lemmatização"
   ]
  },
  {
   "attachments": {},
   "cell_type": "markdown",
   "metadata": {},
   "source": [
    "> WordNedLemmatizer"
   ]
  },
  {
   "cell_type": "code",
   "execution_count": 166,
   "metadata": {},
   "outputs": [
    {
     "name": "stderr",
     "output_type": "stream",
     "text": [
      "[nltk_data] Downloading package wordnet to\n",
      "[nltk_data]     C:\\Users\\logonrmlocal\\AppData\\Roaming\\nltk_data...\n",
      "[nltk_data]   Package wordnet is already up-to-date!\n"
     ]
    },
    {
     "data": {
      "text/plain": [
       "True"
      ]
     },
     "execution_count": 166,
     "metadata": {},
     "output_type": "execute_result"
    }
   ],
   "source": [
    "# Baixar recursos adicionais do NLTK\n",
    "nltk.download(\"wordnet\")"
   ]
  },
  {
   "cell_type": "code",
   "execution_count": 167,
   "metadata": {},
   "outputs": [],
   "source": [
    "# Instanciar o lematizador WordNet\n",
    "lemmatizer = WordNetLemmatizer()\n",
    "\n",
    "# Texto de exemplo\n",
    "texto = \"O novo livro do autor seria lançado em breve na feira do livro.\"\n",
    "\n",
    "# Tokenizar o texto em palavras\n",
    "palavras = word_tokenize(texto, language=\"portuguese\")\n",
    "\n",
    "# Aplicar lematização às palavras\n",
    "palavras_lematizadas = [lemmatizer.lemmatize(palavra) for palavra in palavras]\n",
    "\n",
    "# Juntar as palavras lematizadas em um texto\n",
    "texto_lematizado = \" \".join(palavras_lematizadas)"
   ]
  },
  {
   "cell_type": "code",
   "execution_count": 168,
   "metadata": {},
   "outputs": [
    {
     "name": "stdout",
     "output_type": "stream",
     "text": [
      "Texto original: O novo livro do autor seria lançado em breve na feira do livro.\n",
      "\n",
      "Texto com lematizção: O novo livro do autor seria lançado em breve na feira do livro .\n"
     ]
    }
   ],
   "source": [
    "# Execução\n",
    "print(f\"Texto original: {texto}\")\n",
    "print(f\"\\nTexto com lematizção: {texto_lematizado}\")"
   ]
  },
  {
   "attachments": {},
   "cell_type": "markdown",
   "metadata": {},
   "source": [
    "### Frequência de Palavras"
   ]
  },
  {
   "cell_type": "code",
   "execution_count": 169,
   "metadata": {},
   "outputs": [
    {
     "name": "stderr",
     "output_type": "stream",
     "text": [
      "[nltk_data] Downloading package punkt to\n",
      "[nltk_data]     C:\\Users\\logonrmlocal\\AppData\\Roaming\\nltk_data...\n",
      "[nltk_data]   Package punkt is already up-to-date!\n",
      "[nltk_data] Downloading package stopwords to\n",
      "[nltk_data]     C:\\Users\\logonrmlocal\\AppData\\Roaming\\nltk_data...\n",
      "[nltk_data]   Package stopwords is already up-to-date!\n"
     ]
    },
    {
     "data": {
      "text/plain": [
       "True"
      ]
     },
     "execution_count": 169,
     "metadata": {},
     "output_type": "execute_result"
    }
   ],
   "source": [
    "# Baixar recursos adicionais do NLTK\n",
    "nltk.download(\"punkt\")\n",
    "nltk.download(\"stopwords\")"
   ]
  },
  {
   "cell_type": "code",
   "execution_count": 170,
   "metadata": {},
   "outputs": [],
   "source": [
    "# Texto de exemplo\n",
    "texto = \"O cachorro correu pelo parque. O gato dormiu na poltrona. O cachorro latiu para o gato.\"\n",
    "\n",
    "# Tokenização\n",
    "tokens = word_tokenize(texto.lower(), language = \"portuguese\")\n",
    "\n",
    "# Remoção da pontuação e stopwords (stopwords definidas no Início)\n",
    "pontuacao = set(string.punctuation)\n",
    "tokens_filtrados = [palavra for palavra in tokens if palavra not in pontuacao and palavra not in stopwords]\n",
    "\n",
    "# Contagem de frequência\n",
    "frequencia = Counter(tokens_filtrados)"
   ]
  },
  {
   "cell_type": "code",
   "execution_count": 171,
   "metadata": {},
   "outputs": [
    {
     "name": "stdout",
     "output_type": "stream",
     "text": [
      "Frequência das palavras: \n",
      "cachorro: 2\n",
      "correu: 1\n",
      "parque: 1\n",
      "gato: 2\n",
      "dormiu: 1\n",
      "poltrona: 1\n",
      "latiu: 1\n"
     ]
    }
   ],
   "source": [
    "# Exibição dos resultados\n",
    "print(\"Frequência das palavras: \")\n",
    "for pal, freq in frequencia.items():\n",
    "    print(f\"{pal}: {freq}\")"
   ]
  },
  {
   "attachments": {},
   "cell_type": "markdown",
   "metadata": {},
   "source": [
    "> Gráfico de Barras"
   ]
  },
  {
   "cell_type": "code",
   "execution_count": 172,
   "metadata": {},
   "outputs": [
    {
     "data": {
      "image/png": "[encoded data removed]",
      "text/plain": [
       "<Figure size 1200x600 with 1 Axes>"
      ]
     },
     "metadata": {},
     "output_type": "display_data"
    }
   ],
   "source": [
    "# Plotagem do gráfico de barras\n",
    "plt.figure(figsize = (12,6))\n",
    "plt.bar(frequencia.keys(), frequencia.values())\n",
    "plt.xticks(rotation = 45)\n",
    "plt.xlabel(\"Palavra\")\n",
    "plt.ylabel(\"Frequência\")\n",
    "plt.title(\"Frequência das Palavras no Texto\")\n",
    "plt.show()"
   ]
  },
  {
   "attachments": {},
   "cell_type": "markdown",
   "metadata": {},
   "source": [
    "> Gráfico de Pizza"
   ]
  },
  {
   "cell_type": "code",
   "execution_count": 173,
   "metadata": {},
   "outputs": [
    {
     "data": {
      "image/png": "[encoded data removed]",
      "text/plain": [
       "<Figure size 800x800 with 1 Axes>"
      ]
     },
     "metadata": {},
     "output_type": "display_data"
    }
   ],
   "source": [
    "# Plotagem do gráfico de pizza\n",
    "plt.figure(figsize = (8, 8))\n",
    "plt.pie(frequencia.values(), labels = frequencia.keys(), autopct = \"%1.1f%%\")\n",
    "plt.title(\"Distribuição das Palavras no Texto\")\n",
    "plt.show()"
   ]
  },
  {
   "attachments": {},
   "cell_type": "markdown",
   "metadata": {},
   "source": [
    "### Análise de Sentimentos"
   ]
  },
  {
   "cell_type": "code",
   "execution_count": 174,
   "metadata": {},
   "outputs": [
    {
     "name": "stdout",
     "output_type": "stream",
     "text": [
      "{'neg': 0.0, 'neu': 0.266, 'pos': 0.734, 'compound': 0.8516}\n"
     ]
    }
   ],
   "source": [
    "analizador = SentimentIntensityAnalyzer()\n",
    "\n",
    "texto = \"I love this product! It's amazing.\"\n",
    "pontuacao = analizador.polarity_scores(texto)\n",
    "print(pontuacao)"
   ]
  },
  {
   "attachments": {},
   "cell_type": "markdown",
   "metadata": {},
   "source": [
    "### Classificador"
   ]
  },
  {
   "cell_type": "code",
   "execution_count": 175,
   "metadata": {},
   "outputs": [
    {
     "name": "stderr",
     "output_type": "stream",
     "text": [
      "[nltk_data] Downloading package movie_reviews to\n",
      "[nltk_data]     C:\\Users\\logonrmlocal\\AppData\\Roaming\\nltk_data...\n",
      "[nltk_data]   Package movie_reviews is already up-to-date!\n"
     ]
    },
    {
     "data": {
      "text/plain": [
       "True"
      ]
     },
     "execution_count": 175,
     "metadata": {},
     "output_type": "execute_result"
    }
   ],
   "source": [
    "# Baixar recursos adicionais do NLTK\n",
    "nltk.download (\"movie_reviews\")"
   ]
  },
  {
   "cell_type": "code",
   "execution_count": 176,
   "metadata": {},
   "outputs": [],
   "source": [
    "# Obter avaliações de filmes e dividir em conjuntos de treinamento e teste\n",
    "negativas_reviews = [(movie_reviews.words(file_id), \"negative\") for file_id in movie_reviews.fileids(\"neg\")]\n",
    "positivas_reviews = [(movie_reviews.words(file_id), \"negative\") for file_id in movie_reviews.fileids(\"pos\")]\n",
    "reviews = negativas_reviews + positivas_reviews\n",
    "split_indice = int(len(reviews) * 0.8)\n",
    "treino_set = reviews[:split_indice]\n",
    "teste_set = reviews[split_indice:]\n",
    "\n",
    "# Extrair caractrísticas dos textos (frequência de palavras)\n",
    "def extrair_features(palavras):\n",
    "    return dict([(palavra, True) for palavra in palavras])\n",
    "\n",
    "# Preparar os dados de treinamento e teste\n",
    "treino_features = [(extrair_features(palavras), categoria) for (palavras, categoria) in treino_set]\n",
    "teste_features = [(extrair_features(palavras), categoria) for (palavras, categoria) in teste_set]\n",
    "\n",
    "# Treinar o classificador Naive Bayes\n",
    "classificador = NaiveBayesClassifier.train(treino_features)"
   ]
  },
  {
   "cell_type": "code",
   "execution_count": 177,
   "metadata": {},
   "outputs": [
    {
     "name": "stdout",
     "output_type": "stream",
     "text": [
      "Acurácia do classificador: 1.00\n",
      "Classificação da nova avaliação: negative\n"
     ]
    }
   ],
   "source": [
    "# Avaliar a precisão do classificador\n",
    "acuracia = nltk_accuracy(classificador, teste_features)\n",
    "print(f\"Acurácia do classificador: {acuracia:.2f}\")\n",
    "\n",
    "# Exemplo de uso do classificador\n",
    "nova_review = \"The movie was not good. I would not recommend it.\"\n",
    "novas_features = extrair_features(nova_review.split())\n",
    "print(f\"Classificação da nova avaliação: {classificador.classify(novas_features)}\")"
   ]
  }
 ],
 "metadata": {
  "kernelspec": {
   "display_name": "Python 3",
   "language": "python",
   "name": "python3"
  },
  "language_info": {
   "codemirror_mode": {
    "name": "ipython",
    "version": 3
   },
   "file_extension": ".py",
   "mimetype": "text/x-python",
   "name": "python",
   "nbconvert_exporter": "python",
   "pygments_lexer": "ipython3",
   "version": "3.8.2"
  },
  "orig_nbformat": 4
 },
 "nbformat": 4,
 "nbformat_minor": 2
}
