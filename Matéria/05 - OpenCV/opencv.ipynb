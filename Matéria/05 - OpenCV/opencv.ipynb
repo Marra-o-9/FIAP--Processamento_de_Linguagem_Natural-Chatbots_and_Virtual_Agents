{
 "cells": [
  {
   "attachments": {},
   "cell_type": "markdown",
   "metadata": {},
   "source": [
    "# OpenCV"
   ]
  },
  {
   "attachments": {},
   "cell_type": "markdown",
   "metadata": {},
   "source": [
    "No terminal:\n",
    "```\n",
    "pip install opencv-python\n",
    "```"
   ]
  },
  {
   "cell_type": "code",
   "execution_count": 4,
   "metadata": {},
   "outputs": [
    {
     "data": {
      "text/plain": [
       "True"
      ]
     },
     "execution_count": 4,
     "metadata": {},
     "output_type": "execute_result"
    }
   ],
   "source": [
    "# Importar OpenCV\n",
    "import cv2\n",
    "\n",
    "# Carregar uma imagem\n",
    "imagem = cv2.imread(\"imagem.jpg\")\n",
    "\n",
    "# Exibir a imagem\n",
    "cv2.imshow(\"Image Title\", imagem)\n",
    "cv2.waitKey(0)  # Espera até que uma tecla seja pressionada\n",
    "cv2.destroyAllWindows()  # Fecha a janela\n",
    "\n",
    "# Salvar a imagem\n",
    "cv2.imwrite(\"imagem_salva.jpg\", imagem)"
   ]
  },
  {
   "attachments": {},
   "cell_type": "markdown",
   "metadata": {},
   "source": [
    "> Filtragem"
   ]
  },
  {
   "cell_type": "code",
   "execution_count": 5,
   "metadata": {},
   "outputs": [],
   "source": [
    "# Convertendo para escala de cinza\n",
    "imagem_cinza = cv2.cvtColor(imagem, cv2.COLOR_BGR2GRAY)\n",
    "\n",
    "# Aplicar thresholding para obter uma imagem binária\n",
    "_, imagem_thresh = cv2.threshold(imagem_cinza, 150, 255, cv2.THRESH_BINARY_INV)\n",
    "\n",
    "# Suavização para remover ruído\n",
    "imagem_borrada = cv2.GaussianBlur(imagem_thresh, (3, 3), 0)\n",
    "\n",
    "# Detecção de bordas Canny\n",
    "bordas_canny = cv2.Canny(imagem_borrada, 100, 200)"
   ]
  },
  {
   "cell_type": "code",
   "execution_count": 6,
   "metadata": {},
   "outputs": [
    {
     "data": {
      "text/plain": [
       "True"
      ]
     },
     "execution_count": 6,
     "metadata": {},
     "output_type": "execute_result"
    }
   ],
   "source": [
    "# Exibir e salvar a imagem final\n",
    "cv2.imshow(\"Prepared Image\", imagem_cinza)\n",
    "cv2.waitKey(0)\n",
    "cv2.imshow(\"Prepared Image\", imagem_thresh)\n",
    "cv2.waitKey(0)\n",
    "cv2.imshow(\"Prepared Image\", imagem_borrada)\n",
    "cv2.waitKey(0)\n",
    "cv2.imshow(\"Canny Edge Detection\", bordas_canny)\n",
    "cv2.waitKey(0)\n",
    "\n",
    "cv2.destroyAllWindows()\n",
    "cv2.imwrite(\"processed_image.jpg\", imagem_borrada)"
   ]
  },
  {
   "attachments": {},
   "cell_type": "markdown",
   "metadata": {},
   "source": [
    "> Segmentação da Imagem"
   ]
  },
  {
   "cell_type": "code",
   "execution_count": 31,
   "metadata": {},
   "outputs": [],
   "source": [
    "import numpy as np\n",
    "\n",
    "# Carregar a imagem\n",
    "imagem = cv2.imread(\"carro.jpg\", 0)  # 0 para carregar em escala de cinza\n",
    "\n",
    "# Aplicar a limiarização\n",
    "ret, thresholded = cv2.threshold(imagem, 80, 255, cv2.THRESH_BINARY)\n",
    "\n",
    "# Suavização para remover ruído\n",
    "imagem_borrada = cv2.GaussianBlur(thresholded, (3, 3), 0)\n",
    "\n",
    "# Definir coordenadas e dimensões da ROI\n",
    "x = 305  # posição x do canto superior esquerdo da ROI\n",
    "y = 190  # posição y do canto superior esquerdo da ROI\n",
    "w = 80  # largura da ROI\n",
    "h = 25  # altura da ROI"
   ]
  },
  {
   "cell_type": "code",
   "execution_count": null,
   "metadata": {},
   "outputs": [],
   "source": [
    "# Cortar a região de interesse\n",
    "roi = imagem_borrada[y:y+h, x:x+w]\n",
    "\n",
    "# Mostrar a imagem segmentada e recortada\n",
    "cv2.imshow(\"Região de Interesse\", roi)\n",
    "cv2.waitKey(0)\n",
    "cv2.destroyAllWindows()\n",
    "\n",
    "# Desenhar um retângulo na imagem original\n",
    "cv2.rectangle(imagem, (x, y), (x + w, y + h), (255, 0, 255), 5)  # Verde, espessura 5\n",
    "\n",
    "# Mostrar a imagem original com a ROI destacada\n",
    "cv2.imshow(\"Imagem Original com ROI\", imagem)\n",
    "cv2.waitKey(0)\n",
    "cv2.destroyAllWindows()"
   ]
  }
 ],
 "metadata": {
  "kernelspec": {
   "display_name": "Python 3",
   "language": "python",
   "name": "python3"
  },
  "language_info": {
   "codemirror_mode": {
    "name": "ipython",
    "version": 3
   },
   "file_extension": ".py",
   "mimetype": "text/x-python",
   "name": "python",
   "nbconvert_exporter": "python",
   "pygments_lexer": "ipython3",
   "version": "3.8.2"
  },
  "orig_nbformat": 4
 },
 "nbformat": 4,
 "nbformat_minor": 2
}
