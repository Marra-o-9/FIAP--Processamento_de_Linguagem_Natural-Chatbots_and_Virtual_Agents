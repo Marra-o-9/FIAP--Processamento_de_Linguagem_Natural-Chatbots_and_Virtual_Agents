{
 "cells": [
  {
   "attachments": {},
   "cell_type": "markdown",
   "metadata": {},
   "source": [
    "# Checkpoint 3\n",
    "\n",
    "Integrantes:<br>\n",
    "<br>\n",
    "Henrique Marra Barbosa - RM97672<br>\n",
    "Arthur Hieda Cunha - RM551882<br>\n",
    "Kauã Tateishi dos Santos - RM551632<br>\n",
    "Lucas Bueno Taets Gustavo - RM552162<br>"
   ]
  },
  {
   "attachments": {},
   "cell_type": "markdown",
   "metadata": {},
   "source": [
    "> Importando e convertendo"
   ]
  },
  {
   "attachments": {},
   "cell_type": "markdown",
   "metadata": {},
   "source": [
    "```\n",
    "pip install opencv-python\n",
    "pip install pytesseract\n",
    "```"
   ]
  },
  {
   "cell_type": "code",
   "execution_count": 12,
   "metadata": {},
   "outputs": [],
   "source": [
    "# Importar bibliotecas\n",
    "import cv2\n",
    "import numpy as np\n",
    "import pytesseract\n",
    "from PIL import Image"
   ]
  },
  {
   "cell_type": "code",
   "execution_count": 13,
   "metadata": {},
   "outputs": [
    {
     "data": {
      "text/plain": [
       "True"
      ]
     },
     "execution_count": 13,
     "metadata": {},
     "output_type": "execute_result"
    }
   ],
   "source": [
    "# Carregar uma imagem\n",
    "imagem = cv2.imread(\"cnh.webp\")\n",
    "\n",
    "# Exibir a imagem\n",
    "cv2.imshow(\"Image Title\", imagem)\n",
    "cv2.waitKey(0)  # Espera até que uma tecla seja pressionada\n",
    "cv2.destroyAllWindows()  # Fecha a janela\n",
    "\n",
    "# Salvar a imagem\n",
    "cv2.imwrite(\"cnh.png\", imagem)"
   ]
  },
  {
   "attachments": {},
   "cell_type": "markdown",
   "metadata": {},
   "source": [
    "> Carregando imagem"
   ]
  },
  {
   "cell_type": "code",
   "execution_count": 14,
   "metadata": {},
   "outputs": [],
   "source": [
    "# Carregar a imagem\n",
    "imagem = cv2.imread(\"cnh.png\")"
   ]
  },
  {
   "attachments": {},
   "cell_type": "markdown",
   "metadata": {},
   "source": [
    "> Imagem do Rosto"
   ]
  },
  {
   "cell_type": "code",
   "execution_count": 15,
   "metadata": {},
   "outputs": [],
   "source": [
    "# Definir coordenadas e dimensões da ROI\n",
    "x = 170  # posição x do canto superior esquerdo da ROI\n",
    "y = 190  # posição y do canto superior esquerdo da ROI\n",
    "w = 200  # largura da ROI\n",
    "h = 250  # altura da ROI\n",
    "\n",
    "# Cortar a região de interesse\n",
    "roi = imagem[y:y+h, x:x+w]\n",
    "\n",
    "# Mostrar a imagem segmentada e recortada\n",
    "cv2.imshow(\"Região de Interesse\", roi)\n",
    "cv2.imwrite(\"./informacoes/rosto.png\", roi)\n",
    "cv2.waitKey(0)\n",
    "cv2.destroyAllWindows()\n",
    "\n",
    "# Desenhar um retângulo na imagem original\n",
    "cv2.rectangle(imagem, (x, y), (x + w, y + h), (255, 0, 255), 5)  # Verde, espessura 5\n",
    "\n",
    "# Mostrar a imagem original com a ROI destacada\n",
    "cv2.imshow(\"Imagem Original com ROI\", imagem)\n",
    "cv2.waitKey(0)\n",
    "cv2.destroyAllWindows()"
   ]
  },
  {
   "attachments": {},
   "cell_type": "markdown",
   "metadata": {},
   "source": [
    "> Carregar imagem em Preto e Branco"
   ]
  },
  {
   "cell_type": "code",
   "execution_count": 16,
   "metadata": {},
   "outputs": [],
   "source": [
    "# Carregar a imagem\n",
    "imagem = cv2.imread(\"cnh.png\", 0)  # 0 para carregar em escala de cinza\n",
    "\n",
    "# Aplicar a limiarização\n",
    "ret, thresholded = cv2.threshold(imagem, 80, 255, cv2.THRESH_BINARY)\n",
    "\n",
    "# Suavização para remover ruído\n",
    "imagem_borrada = cv2.GaussianBlur(thresholded, (3, 3), 0)"
   ]
  },
  {
   "attachments": {},
   "cell_type": "markdown",
   "metadata": {},
   "source": [
    "> Assinatura"
   ]
  },
  {
   "cell_type": "code",
   "execution_count": 17,
   "metadata": {},
   "outputs": [],
   "source": [
    "# Definir coordenadas e dimensões da ROI\n",
    "x = 270  # posição x do canto superior esquerdo da ROI\n",
    "y = 750  # posição y do canto superior esquerdo da ROI\n",
    "w = 180  # largura da ROI\n",
    "h = 36  # altura da ROI\n",
    "\n",
    "# Cortar a região de interesse\n",
    "roi = imagem[y:y+h, x:x+w]\n",
    "\n",
    "# Mostrar a imagem segmentada e recortada\n",
    "cv2.imshow(\"Região de Interesse\", roi)\n",
    "cv2.imwrite(\"./informacoes/assinatura.png\", roi)\n",
    "cv2.waitKey(0)\n",
    "cv2.destroyAllWindows()"
   ]
  },
  {
   "cell_type": "code",
   "execution_count": 18,
   "metadata": {},
   "outputs": [],
   "source": [
    "# Caminho para o executável pytesseract\n",
    "pytesseract.pytesseract.tesseract_cmd = r\"C:\\Tesseract\\tesseract.exe\""
   ]
  },
  {
   "cell_type": "code",
   "execution_count": 19,
   "metadata": {},
   "outputs": [
    {
     "name": "stdout",
     "output_type": "stream",
     "text": [
      "Lince da Sila\n",
      "\n"
     ]
    }
   ],
   "source": [
    "# Carrega a imagem\n",
    "imagem = Image.open(\"./informacoes/assinatura.png\")\n",
    "\n",
    "# Usa o pytesseract para realizar OCR na imagem\n",
    "texto = pytesseract.image_to_string(imagem)\n",
    "\n",
    "# Imprime o texto extraído\n",
    "print(texto)"
   ]
  },
  {
   "cell_type": "code",
   "execution_count": 20,
   "metadata": {},
   "outputs": [
    {
     "ename": "error",
     "evalue": "OpenCV(4.9.0) :-1: error: (-5:Bad argument) in function 'Canny'\n> Overload resolution failed:\n>  - image is not a numpy array, neither a scalar\n>  - Expected Ptr<cv::UMat> for argument 'image'\n>  - Canny() missing required argument 'threshold2' (pos 4)\n>  - Canny() missing required argument 'threshold2' (pos 4)\n",
     "output_type": "error",
     "traceback": [
      "\u001b[1;31m---------------------------------------------------------------------------\u001b[0m",
      "\u001b[1;31merror\u001b[0m                                     Traceback (most recent call last)",
      "Cell \u001b[1;32mIn[20], line 1\u001b[0m\n\u001b[1;32m----> 1\u001b[0m canny_edges \u001b[39m=\u001b[39m cv2\u001b[39m.\u001b[39;49mCanny(imagem, \u001b[39m100\u001b[39;49m, \u001b[39m200\u001b[39;49m)\n\u001b[0;32m      2\u001b[0m cv2\u001b[39m.\u001b[39mimshow(\u001b[39m\"\u001b[39m\u001b[39mRegião de Interesse\u001b[39m\u001b[39m\"\u001b[39m, canny_edges)\n\u001b[0;32m      3\u001b[0m cv2\u001b[39m.\u001b[39mwaitKey(\u001b[39m0\u001b[39m)\n",
      "\u001b[1;31merror\u001b[0m: OpenCV(4.9.0) :-1: error: (-5:Bad argument) in function 'Canny'\n> Overload resolution failed:\n>  - image is not a numpy array, neither a scalar\n>  - Expected Ptr<cv::UMat> for argument 'image'\n>  - Canny() missing required argument 'threshold2' (pos 4)\n>  - Canny() missing required argument 'threshold2' (pos 4)\n"
     ]
    }
   ],
   "source": [
    "canny_edges = cv2.Canny(\"./informacoes/assinatura.png\", 100, 200)\n",
    "cv2.imshow(\"Região de Interesse\", canny_edges)\n",
    "cv2.waitKey(0)\n",
    "cv2.destroyAllWindows()"
   ]
  }
 ],
 "metadata": {
  "kernelspec": {
   "display_name": "Python 3",
   "language": "python",
   "name": "python3"
  },
  "language_info": {
   "codemirror_mode": {
    "name": "ipython",
    "version": 3
   },
   "file_extension": ".py",
   "mimetype": "text/x-python",
   "name": "python",
   "nbconvert_exporter": "python",
   "pygments_lexer": "ipython3",
   "version": "3.8.2"
  },
  "orig_nbformat": 4
 },
 "nbformat": 4,
 "nbformat_minor": 2
}
