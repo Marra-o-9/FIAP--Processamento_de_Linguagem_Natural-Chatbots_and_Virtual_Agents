{
 "cells": [
  {
   "attachments": {},
   "cell_type": "markdown",
   "metadata": {},
   "source": [
    "# Tesseract"
   ]
  },
  {
   "attachments": {},
   "cell_type": "markdown",
   "metadata": {},
   "source": [
    "- Baixar o setup Tesseract em um diretório com path fácil\n",
    "- Pegar imagem com texto para ser lida"
   ]
  },
  {
   "cell_type": "code",
   "execution_count": 5,
   "metadata": {},
   "outputs": [],
   "source": [
    "# Importar Pytesseract\n",
    "import pytesseract\n",
    "from PIL import Image\n",
    "\n",
    "# Caminho para o executável pytesseract\n",
    "pytesseract.pytesseract.tesseract_cmd = r\"C:\\Tesseract\\tesseract.exe\""
   ]
  },
  {
   "cell_type": "code",
   "execution_count": 15,
   "metadata": {},
   "outputs": [
    {
     "name": "stdout",
     "output_type": "stream",
     "text": [
      "My Big Fish\n",
      "\n",
      "Co\n",
      "@\n",
      "\n",
      "@\n",
      "[o)\n",
      "\n",
      "I got a fish.\n",
      "\n",
      "It was big and fast.\n",
      "Did you see my big\n",
      "fish?\n",
      "\n",
      "I will take it home\n",
      "and eat it.\n",
      "\n",
      "\n"
     ]
    }
   ],
   "source": [
    "# Carrega a imagem\n",
    "imagem = Image.open(\"teste.jpg\")\n",
    "\n",
    "# Usa o pytesseract para realizar OCR na imagem\n",
    "texto = pytesseract.image_to_string(imagem)\n",
    "\n",
    "# Imprime o texto extraído\n",
    "print(texto)"
   ]
  }
 ],
 "metadata": {
  "kernelspec": {
   "display_name": "Python 3",
   "language": "python",
   "name": "python3"
  },
  "language_info": {
   "codemirror_mode": {
    "name": "ipython",
    "version": 3
   },
   "file_extension": ".py",
   "mimetype": "text/x-python",
   "name": "python",
   "nbconvert_exporter": "python",
   "pygments_lexer": "ipython3",
   "version": "3.8.2"
  },
  "orig_nbformat": 4
 },
 "nbformat": 4,
 "nbformat_minor": 2
}
